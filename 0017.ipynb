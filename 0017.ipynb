{
 "cells": [
  {
   "cell_type": "markdown",
   "id": "50bde5c1",
   "metadata": {},
   "source": [
    "<h1 align=center> Break e Continue </h1>\n",
    "\n",
    "```JavaScript\n",
    "const numeros = [0, 1, 2, 3, 4, 5, 6, 7, 8, 9];\n",
    "\n",
    "// Exemplo 01 \n",
    "\n",
    "for (let i of numeros) {\n",
    "\n",
    "    if (i === 2) {\n",
    "        continue\n",
    "    }\n",
    "\n",
    "    console.log(i);\n",
    "}\n",
    "\n",
    "/* -=-=-=-=-=-=-=-=-=-=-=-=-=-=-=-=-=-=-=-=-=-=-=-=-=-=-=-=-=-=-=-=-=-=-=-=-=-=-=-=-=-= */\n",
    "\n",
    "// Exemplo 02 \n",
    "\n",
    "for (let i of numeros) {\n",
    "\n",
    "    if (i === 2) {\n",
    "        break\n",
    "    }\n",
    "\n",
    "    console.log(i);\n",
    "}\n",
    "```"
   ]
  }
 ],
 "metadata": {
  "kernelspec": {
   "display_name": "Python 3 (ipykernel)",
   "language": "python",
   "name": "python3"
  },
  "language_info": {
   "codemirror_mode": {
    "name": "ipython",
    "version": 3
   },
   "file_extension": ".py",
   "mimetype": "text/x-python",
   "name": "python",
   "nbconvert_exporter": "python",
   "pygments_lexer": "ipython3",
   "version": "3.10.2"
  }
 },
 "nbformat": 4,
 "nbformat_minor": 5
}
