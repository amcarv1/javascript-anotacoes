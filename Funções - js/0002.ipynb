{
 "cells": [
  {
   "cell_type": "markdown",
   "id": "20812f81",
   "metadata": {},
   "source": [
    "<h1 align=center> Método splice() </h1>"
   ]
  },
  {
   "cell_type": "markdown",
   "id": "56b76024",
   "metadata": {},
   "source": [
    "```JavaScript\n",
    "//               -10       -9     -8          -7         -6        -5         -4         -3        -2       -1\n",
    "//                0        1       2          3          4         5          6          7         8        9\n",
    "var nomes = ['Maria', 'João', 'Eduardo', 'Gabriel', 'Júlia', 'Beatriz', 'Roberto', 'Marcelo', 'Luíz', 'Adalberto'];\n",
    "\n",
    "var removidos = nomes.splice(9, 1); // Remove Adalberto\n",
    "\n",
    "//               -9       -8     -7          -6         -5        -4         -3         -2       -1       \n",
    "//                0        1       2          3          4         5          6          7         8        \n",
    "var nomes = ['Maria', 'João', 'Eduardo', 'Gabriel', 'Júlia', 'Beatriz', 'Roberto', 'Marcelo', 'Luíz'];\n",
    "\n",
    "var removidos = nomes.splice(2, 3); // Remove Eduardo, Gabriel e Júlia.\n",
    "\n",
    "//               -6       -5     -4          -3         -2        -1               \n",
    "//               0        1       2          3          4         5                \n",
    "var nomes = ['Maria', 'João', 'Beatriz', 'Roberto', 'Marcelo', 'Luíz'];\n",
    "\n",
    "var removidos = nomes.splice(-5, 2); // Remove João e Beatriz.\n",
    "\n",
    "/////////////////////////////////////////////////////////////////////////////////////////////////////////////////////\n",
    "\n",
    "//               -10       -9     -8          -7         -6        -5         -4         -3        -2       -1\n",
    "//                0        1       2          3          4         5          6          7         8        9\n",
    "var nomes = ['Maria', 'João', 'Eduardo', 'Gabriel', 'Júlia', 'Beatriz', 'Roberto', 'Marcelo', 'Luíz', 'Adalberto'];\n",
    "\n",
    "var adicionado = nomes.splice(3, 0, 'Santiago'); // Santiago empurra Gabriel pro índice 4 e se apossa pro índice 3.\n",
    "\n",
    "//               -11       -10     -9         -8        -7         -6        -5         -4         -3        -2       -1\n",
    "//                0        1       2         3          4         5         6          7          8         9        10\n",
    "var nomes = ['Maria', 'João', 'Eduardo', 'Santiago','Gabriel', 'Júlia', 'Beatriz', 'Roberto', 'Marcelo', 'Luíz', 'Adalberto'];\n",
    "\n",
    "var trocado = nomes.splice(7, 1, 'Rodrigo'); // Rodrigo remove Roberto e ocupa sua posição.\n",
    "\n",
    "//               -11       -10     -9         -8        -7         -6        -5         -4         -3        -2       -1\n",
    "//                0        1       2         3          4         5         6          7          8         9        10\n",
    "var nomes = ['Maria', 'João', 'Eduardo', 'Santiago','Gabriel', 'Júlia', 'Beatriz', 'Rodrigo', 'Marcelo', 'Luíz', 'Adalberto'];\n",
    "\n",
    "var trocadoERemovidos = nomes.splice(4, 2, 'Londres'); // Londres remove Gabriel e ocupa sua posição e Júlia é excluído.\n",
    "\n",
    "//               -10       -9     -8         -7        -6        -5        -4         -3          -2        -1       \n",
    "//                0        1       2         3          4         5           6         7          8         9        \n",
    "var nomes = ['Maria', 'João', 'Eduardo', 'Santiago', 'Londres', 'Beatriz', 'Rodrigo', 'Marcelo', 'Luíz', 'Adalberto'];\n",
    "\n",
    "var trocados = nomes.splice(7, 3, 'Arroz', 'Abacaxi', 'Beterraba'); // Marcelo removido, arroz, abacaxi, beterraba adicionados\n",
    "```"
   ]
  }
 ],
 "metadata": {
  "kernelspec": {
   "display_name": "Python 3 (ipykernel)",
   "language": "python",
   "name": "python3"
  },
  "language_info": {
   "codemirror_mode": {
    "name": "ipython",
    "version": 3
   },
   "file_extension": ".py",
   "mimetype": "text/x-python",
   "name": "python",
   "nbconvert_exporter": "python",
   "pygments_lexer": "ipython3",
   "version": "3.10.2"
  }
 },
 "nbformat": 4,
 "nbformat_minor": 5
}
