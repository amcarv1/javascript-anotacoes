{
 "cells": [
  {
   "cell_type": "markdown",
   "id": "de3795a7",
   "metadata": {},
   "source": [
    "<h1 align='center'> Arrays em JavaScript </h1>"
   ]
  },
  {
   "cell_type": "markdown",
   "id": "172c2469",
   "metadata": {},
   "source": [
    "<h3> Conceitos Básicos de Arrays </h3>"
   ]
  },
  {
   "cell_type": "markdown",
   "id": "bbeb574c",
   "metadata": {},
   "source": [
    "\n",
    "```JavaScript\n",
    "// Como criar uma array.\n",
    "const alunos = ['Luiz', 'Maria', 'João'];\n",
    "\n",
    "// Como exibir uma array.\n",
    "console.log(alunos);\n",
    "\n",
    "// Como exibir um elemento qualquer da array.\n",
    "console.log(alunos[2]);\n",
    "\n",
    "// Como modifica um elemento qualquer da array via índice.\n",
    "alunos[1] = 'Roberto';\n",
    "\n",
    "// Como verificar o tamanho da lista.\n",
    "alunos.length;\n",
    "\n",
    "// Como adicionar um elemento no final da array.\n",
    "alunos.push('Júlia');\n",
    "\n",
    "// Como adicionar um elemento no início da array.\n",
    "alunos.unshift('Adalberto');\n",
    "\n",
    "// Como remover o último elemento do array.\n",
    "alunos.pop();\n",
    "\n",
    "// Como remover o primeiro elemento do array.\n",
    "alunos.shift();\n",
    "\n",
    "// Como percorrer um array.\n",
    "alunos.slice(0, 3);\n",
    "```"
   ]
  },
  {
   "cell_type": "markdown",
   "id": "b5f491da",
   "metadata": {},
   "source": [
    "<h3> Valores por Referência </h3>"
   ]
  },
  {
   "cell_type": "markdown",
   "id": "1fd87b87",
   "metadata": {},
   "source": [
    "```JavaScript\n",
    "// Como passar um valor por referência.\n",
    "const nomes = ['Eduardo', 'Maria', 'Joana'];\n",
    "const novosNomes = nomes; // novosNomes e nomes apontam para o mesmo local de memória.\n",
    "                          // Resultado: Qualquer modificação em uma dessas variáveis impactará na outra.\n",
    "\n",
    "// Como copiar dados de um array sem fazer referência.\n",
    "const nomes2 = ['Eduardo', 'Maria', 'Joana'];\n",
    "const novosNomes2 = [...nomes2]; // novosNomes2 não aponta para o mesmo local de memória que nomes2.\n",
    "```"
   ]
  },
  {
   "cell_type": "markdown",
   "id": "98c1c5c6",
   "metadata": {},
   "source": [
    "<h3> Atribuição Viadesestruturação</h3>"
   ]
  },
  {
   "cell_type": "markdown",
   "id": "1deda730",
   "metadata": {},
   "source": [
    "```JavaScript\n",
    "// Como fazer atribuição viadesestruturação.\n",
    "const numeros = [100, 200, 300, 400, 500, 600, 700, 800, 900];\n",
    "const [primeiroNumero, segundoNumero] = numeros;\n",
    "\n",
    "// Como utilizar o operador rest em atribuição viadesestruturação.\n",
    "const numeros2 = [100, 200, 300, 400, 500, 600, 700, 800, 900];\n",
    "const [primeiroNum, segundoNum, ...rest] = numeros;\n",
    "\n",
    "// Como pular valores indesejados em atribuição viadesestruturação.\n",
    "const[um, , dois, , tres, , quatro] = numeros;\n",
    "\n",
    "// Como fazer atribuição viadestruturação em array bidimensionais.\n",
    "const numbers = [ [ 0, 1, 2] , [ 3, 4, 5 ], [ 6, 7, 8 ] ];\n",
    "\n",
    "const [, [, , cinco]] = numbers;\n",
    "```"
   ]
  }
 ],
 "metadata": {
  "kernelspec": {
   "display_name": "Python 3 (ipykernel)",
   "language": "python",
   "name": "python3"
  },
  "language_info": {
   "codemirror_mode": {
    "name": "ipython",
    "version": 3
   },
   "file_extension": ".py",
   "mimetype": "text/x-python",
   "name": "python",
   "nbconvert_exporter": "python",
   "pygments_lexer": "ipython3",
   "version": "3.10.2"
  }
 },
 "nbformat": 4,
 "nbformat_minor": 5
}
