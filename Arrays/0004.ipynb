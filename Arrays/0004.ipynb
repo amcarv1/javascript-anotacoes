{
 "cells": [
  {
   "cell_type": "markdown",
   "id": "544bf727",
   "metadata": {},
   "source": [
    "<h1 align=center> Concatenação de Arrays </h1>"
   ]
  },
  {
   "cell_type": "markdown",
   "id": "24ce3c62",
   "metadata": {},
   "source": [
    "```JavaScript\n",
    "const num1 = [1, 2, 3];\n",
    "const num2 = [4, 5, 6];\n",
    "```\n",
    "\n",
    "<h3> Utilizando o método concat() </h3>\n",
    "\n",
    "```JavaScript\n",
    "const juncao = num1.concat(num2);\n",
    "```\n",
    "\n",
    "<h3> Utilizando o spread operator </h3>\n",
    "\n",
    "```JavaScript\n",
    "const juncao2 = [...num1, ...num2];\n",
    "```"
   ]
  }
 ],
 "metadata": {
  "kernelspec": {
   "display_name": "Python 3 (ipykernel)",
   "language": "python",
   "name": "python3"
  },
  "language_info": {
   "codemirror_mode": {
    "name": "ipython",
    "version": 3
   },
   "file_extension": ".py",
   "mimetype": "text/x-python",
   "name": "python",
   "nbconvert_exporter": "python",
   "pygments_lexer": "ipython3",
   "version": "3.10.2"
  }
 },
 "nbformat": 4,
 "nbformat_minor": 5
}
