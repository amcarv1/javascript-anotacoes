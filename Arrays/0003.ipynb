{
 "cells": [
  {
   "cell_type": "markdown",
   "id": "62a33079",
   "metadata": {},
   "source": [
    "<h1 align=center> filter(), map(), reduce(), foeEach() </h1>"
   ]
  },
  {
   "cell_type": "markdown",
   "id": "a299e49c",
   "metadata": {},
   "source": [
    "* filter()"
   ]
  },
  {
   "cell_type": "markdown",
   "id": "e4a48d15",
   "metadata": {},
   "source": [
    "```JavaScript\n",
    "const numeros = [5, 50, 80, 1, 2, 3, 5, 8, 7, 11, 15, 22, 27];\n",
    "\n",
    "// filter() é um método que recebe como argumento uma função callback.\n",
    "// A função passada como método possui três parâmetros (valor, índice e o array.)\n",
    "\n",
    "// Exemplo 01 \n",
    "\n",
    "function filtro(valor) {\n",
    "    return valor >= 10;\n",
    "}\n",
    "\n",
    "const numerosFiltrados = numeros.filter(filtro);\n",
    "\n",
    "\n",
    "// Exemplo 02\n",
    "\n",
    "const numerosFiltrados = numeros.filter(function(valor) {\n",
    "    return valor >= 10;\n",
    "});\n",
    "\n",
    "\n",
    "// Exemplo 03\n",
    "\n",
    "const numerosFiltrados = numeros.filter( valor => return valor > 10 );\n",
    "```"
   ]
  },
  {
   "cell_type": "markdown",
   "id": "3ce60ff1",
   "metadata": {},
   "source": [
    "* map()"
   ]
  },
  {
   "cell_type": "markdown",
   "id": "e62ef52d",
   "metadata": {},
   "source": [
    "```JavaScript\n",
    "const numeros = [5, 50, 80, 1, 2, 3, 5, 8, 7, 11, 15, 22, 27];\n",
    "\n",
    "// map() é um método que recebe como argumento uma função callback.\n",
    "// A função passada como método possui três parâmetros (valor, índice e o array.)\n",
    "\n",
    "const numerosDobrados = numeros.map(function(valor) {\n",
    "    return valor * 2;\n",
    "});\n",
    "\n",
    "console.log(numeros);\n",
    "console.log(numerosDobrados);\n",
    "```"
   ]
  },
  {
   "cell_type": "markdown",
   "id": "f7df81fd",
   "metadata": {},
   "source": [
    "* reduce()"
   ]
  },
  {
   "cell_type": "markdown",
   "id": "97c5f9c7",
   "metadata": {},
   "source": [
    "```JavaScript\n",
    "const numeros = [5, 50, 80, 1, 2, 3, 5, 8, 7, 11, 15, 22, 27];\n",
    "\n",
    "const total = numeros.reduce(function(acumulador, valor, indice, array) {\n",
    "    return acumulador += valor ;\n",
    "}, 0);\n",
    "\n",
    "console.log(total);\n",
    "```"
   ]
  },
  {
   "cell_type": "markdown",
   "id": "433334cd",
   "metadata": {},
   "source": [
    "* forEach()"
   ]
  },
  {
   "cell_type": "markdown",
   "id": "43488132",
   "metadata": {},
   "source": [
    "```JavaScript\n",
    "const numeros = [5, 50, 80, 1, 2, 3, 5, 8, 7, 11, 15, 22, 27];\n",
    "\n",
    "numeros.forEach(function(valor, indice, array) {\n",
    "    console.log(valor, indice);\n",
    "});\n",
    "```"
   ]
  }
 ],
 "metadata": {
  "kernelspec": {
   "display_name": "Python 3 (ipykernel)",
   "language": "python",
   "name": "python3"
  },
  "language_info": {
   "codemirror_mode": {
    "name": "ipython",
    "version": 3
   },
   "file_extension": ".py",
   "mimetype": "text/x-python",
   "name": "python",
   "nbconvert_exporter": "python",
   "pygments_lexer": "ipython3",
   "version": "3.10.2"
  }
 },
 "nbformat": 4,
 "nbformat_minor": 5
}
