{
 "cells": [
  {
   "cell_type": "markdown",
   "id": "d4c6fd45",
   "metadata": {},
   "source": [
    "<h3 align=center> Método filter() </h3>"
   ]
  },
  {
   "cell_type": "markdown",
   "id": "e98c0bdc",
   "metadata": {},
   "source": [
    "* <strong> filter() é um método que recebe como argumento uma função callback. </strong>\n",
    "* <strong> A função passada como método possui três parâmetros (valor, índice e o array.) </strng>"
   ]
  },
  {
   "cell_type": "markdown",
   "id": "95f67642",
   "metadata": {},
   "source": [
    "```JavaScript\n",
    "const numeros = [5, 50, 80, 1, 2, 3, 5, 8, 7, 11, 15, 22, 27];\n",
    "\n",
    "// Exemplo 01 \n",
    "\n",
    "function filtro(valor) {\n",
    "    return valor >= 10;\n",
    "}\n",
    "\n",
    "const numerosFiltrados = numeros.filter(filtro);\n",
    "\n",
    "// Exemplo 02\n",
    "\n",
    "const numerosFiltrados = numeros.filter(function(valor) {\n",
    "    return valor >= 10;\n",
    "});\n",
    "\n",
    "// Exemplo 03\n",
    "\n",
    "const numerosFiltrados = numeros.filter( valor => return valor > 10 );\n",
    "```"
   ]
  }
 ],
 "metadata": {
  "kernelspec": {
   "display_name": "Python 3 (ipykernel)",
   "language": "python",
   "name": "python3"
  },
  "language_info": {
   "codemirror_mode": {
    "name": "ipython",
    "version": 3
   },
   "file_extension": ".py",
   "mimetype": "text/x-python",
   "name": "python",
   "nbconvert_exporter": "python",
   "pygments_lexer": "ipython3",
   "version": "3.10.2"
  }
 },
 "nbformat": 4,
 "nbformat_minor": 5
}
