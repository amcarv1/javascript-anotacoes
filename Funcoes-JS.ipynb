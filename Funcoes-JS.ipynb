{
 "cells": [
  {
   "cell_type": "markdown",
   "id": "c5e77dd0",
   "metadata": {},
   "source": [
    "<h1 align=center> Funções em JavaScript </h1>"
   ]
  },
  {
   "cell_type": "markdown",
   "id": "8b86bbe3",
   "metadata": {},
   "source": [
    "<h3> Conceitos Iniciais </h3>"
   ]
  },
  {
   "cell_type": "markdown",
   "id": "4c1cfcfa",
   "metadata": {},
   "source": [
    "* Funções são pequenos blocos de códigos que são utilizados para retornar valores. <br> </br>\n",
    "\n",
    "* Em JavaScript, funções são consideradas <strong>first-class objects</strong>, isso significa que podem ser armazenados em estruturas de dados, passados como argumentos ou usados em estruturas de controle. <br> </br>"
   ]
  },
  {
   "cell_type": "markdown",
   "id": "66a77d1d",
   "metadata": {},
   "source": [
    "<h3> Tipos de Funções e Maneiras de Declara-lás </h3>"
   ]
  },
  {
   "cell_type": "markdown",
   "id": "3aced51c",
   "metadata": {},
   "source": [
    "<br></br>\n",
    "<strong>1. Function Declaration</strong>\n",
    "\n",
    "```JavaScript\n",
    "function falaOi() {\n",
    "    return 'Oi';\n",
    "}\n",
    "```\n",
    "\n",
    "<strong>2. Function Expressions</strong>\n",
    "\n",
    "```JavaScript\n",
    "const falaOi = function() {\n",
    "        return 'Oi';\n",
    "};\n",
    "```\n",
    "\n",
    "<strong>3. Arrow Functions</strong>\n",
    "\n",
    "```JavaScript\n",
    "const falaOi = () => {\n",
    "    return 'Oi';\n",
    "};\n"
   ]
  },
  {
   "cell_type": "markdown",
   "id": "5cc0305e",
   "metadata": {},
   "source": [
    "<h3> Function Hoisting </h3>"
   ]
  },
  {
   "cell_type": "markdown",
   "id": "b83d817b",
   "metadata": {},
   "source": [
    "* Function hoisting é a possibilidade de chamar a função após ou antes de sua criação. Só é possível quando declaramos funções no modelo clássico."
   ]
  },
  {
   "cell_type": "markdown",
   "id": "876c3462",
   "metadata": {},
   "source": [
    "```JavaScript\n",
    "saudacao (); // Chamando a função antés de cria-lá.\n",
    "\n",
    "function saudacao() {\n",
    "    console.log('Oi');\n",
    "}\n",
    "\n",
    "saudacao(); // Chamando a função após cria-lá.\n",
    "```"
   ]
  },
  {
   "cell_type": "markdown",
   "id": "3bcfcf78",
   "metadata": {},
   "source": [
    "<h3> Parâmetros da Função </h3>"
   ]
  },
  {
   "cell_type": "markdown",
   "id": "a3a52387",
   "metadata": {},
   "source": [
    "* <strong>Nas Functions Declarations, existe um parâmetro invisível chamado arguments. Tal parâmetro é uma espécia de array que suporta todos os argumentos e parâmetros passados em uma function declaration. </strong>"
   ]
  },
  {
   "cell_type": "markdown",
   "id": "aa97ccce",
   "metadata": {},
   "source": [
    "```JavaScript\n",
    "// Exemplo 01\n",
    "\n",
    "function exibe() {\n",
    "    console.log(arguments);\n",
    "}\n",
    "\n",
    "exibe('Oi'); // Exibirá Oi.\n",
    "exibe('Oi', 2, true, 98.2); // Exibirá todos os argumentos.\n",
    "\n",
    "// Exemplo 02\n",
    "\n",
    "function exibe() {\n",
    "    console.log(arguments[0]);\n",
    "}\n",
    "\n",
    "exibe('Oi'); // Exibirá Oi.\n",
    "exibe('Oi', 2, true, 98.2); // Exibirá só o primeiro argumento.\n",
    "```"
   ]
  },
  {
   "cell_type": "markdown",
   "id": "0cb800f2",
   "metadata": {},
   "source": [
    "* <strong>Podemos adicionar valores padrões a parâmetros. </strong>"
   ]
  },
  {
   "cell_type": "markdown",
   "id": "4d10fd90",
   "metadata": {},
   "source": [
    "```JavaScript\n",
    "function soma(a = 1, b = 1) {\n",
    "    return a + b\n",
    "}\n",
    "```"
   ]
  },
  {
   "cell_type": "markdown",
   "id": "eca7869b",
   "metadata": {},
   "source": [
    "* <strong> Existem casos onde iremos quere o valor padrão do parâmetro, nesse caso, passamos undefined como argumento na posição do parâmetro que queremos que tenha o valor padrão. </strong>"
   ]
  },
  {
   "cell_type": "markdown",
   "id": "cb2820dc",
   "metadata": {},
   "source": [
    "```JavaScript\n",
    "function soma(a = 1, b = 1, c = 1) {\n",
    "    return a + b + c\n",
    "}\n",
    "\n",
    "soma(12, undefined, 30); \n",
    "```"
   ]
  },
  {
   "cell_type": "markdown",
   "id": "5e7f6325",
   "metadata": {},
   "source": [
    "* <strong>Podemos utilizar o rest operator para capturarmos todos os argumentos passados após certa posição.</strong>\n",
    "<br></br>\n",
    "```JavaScript\n",
    "function conta(operador, acumulador, ...numeros) {\n",
    "        for (let i of numeros) {\n",
    "            if (operador === '+') acumulador += i;\n",
    "            if (operador === '-') acumulador -= i;\n",
    "            if (operador === '*') acumulador *= i;\n",
    "            if (operador === '/') acumulador /= i;\n",
    "        }\n",
    "}\n",
    "```"
   ]
  }
 ],
 "metadata": {
  "kernelspec": {
   "display_name": "Python 3 (ipykernel)",
   "language": "python",
   "name": "python3"
  },
  "language_info": {
   "codemirror_mode": {
    "name": "ipython",
    "version": 3
   },
   "file_extension": ".py",
   "mimetype": "text/x-python",
   "name": "python",
   "nbconvert_exporter": "python",
   "pygments_lexer": "ipython3",
   "version": "3.10.2"
  }
 },
 "nbformat": 4,
 "nbformat_minor": 5
}
