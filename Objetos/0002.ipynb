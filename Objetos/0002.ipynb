{
 "cells": [
  {
   "cell_type": "markdown",
   "id": "e55cfe77",
   "metadata": {},
   "source": [
    "<h1 align=center> Object.defineProperty() e Object.defineProperties() </h1>"
   ]
  },
  {
   "cell_type": "markdown",
   "id": "d935fcc8",
   "metadata": {},
   "source": [
    "```JavaScript\n",
    "/* =-=-=-=-=-=-=-=-==-=-=-=-=-=-=-=-=  Criando Um Objeto Constructor =-=-=-=-=-=-=-=-==-=-=-=-=-=-=-=-=-=-=-= */\n",
    "\n",
    "function Produto(nome, preco, estoque) {\n",
    "    this.nome = nome;\n",
    "    this.preco = preco;\n",
    "    this.estoque;\n",
    "\n",
    "    // Definindo as propriedaes do atributo estoque.\n",
    "    Object.defineProperty(this, 'estoque', {\n",
    "        enumerable: true,                           // enumerable -> Permite a exibição da chave.\n",
    "        value: estoque,                             // value      -> Permite a exibição do valor.\n",
    "        writable: true,                             // writable   -> Permite a modificação do valor.\n",
    "        configurable: true                          // configurable -> Permite a deleção do atributo.\n",
    "    });\n",
    "\n",
    "    // Definindo as propriedades do atributo nome e preco.\n",
    "    Object.defineProperties(this, {\n",
    "        nome: {\n",
    "            enumerable: true,                           // enumerable -> Permite a exibição da chave.\n",
    "            value: estoque,                             // value      -> Permite a exibição do valor.\n",
    "            writable: true,                             // writable   -> Permite a modificação do valor.\n",
    "            configurable: true                          // configurable -> Permite a deleção do atributo.\n",
    "        },\n",
    "        preco: {\n",
    "            enumerable: true,                           // enumerable -> Permite a exibição da chave.\n",
    "            value: estoque,                             // value      -> Permite a exibição do valor.\n",
    "            writable: true,                             // writable   -> Permite a modificação do valor.\n",
    "            configurable: true                          // configurable -> Permite a deleção do atributo.\n",
    "        },\n",
    "    });\n",
    "}\n",
    "\n",
    "/* -=-=-=-=-=-=-=-=-=-=-=-=-=-=-=-=-=-=-=-=-=-=-=-=-=-=-=-=-=-=-=-=-=-=-=-=-=-=-=-=-=-=-=-=-=-==-=-=-=-=-=-=-=-==-=- */\n",
    "\n",
    "const p1 = new Produto('Camiseta', 28.90, 120);\n",
    "console.log(p1.nome);\n",
    "console.log(p1.estoque)\n",
    "p1.estoque = 20;\n",
    "console.log(p1.estoque)\n",
    "```"
   ]
  }
 ],
 "metadata": {
  "kernelspec": {
   "display_name": "Python 3 (ipykernel)",
   "language": "python",
   "name": "python3"
  },
  "language_info": {
   "codemirror_mode": {
    "name": "ipython",
    "version": 3
   },
   "file_extension": ".py",
   "mimetype": "text/x-python",
   "name": "python",
   "nbconvert_exporter": "python",
   "pygments_lexer": "ipython3",
   "version": "3.10.2"
  }
 },
 "nbformat": 4,
 "nbformat_minor": 5
}
