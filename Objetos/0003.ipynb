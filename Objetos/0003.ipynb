{
 "cells": [
  {
   "cell_type": "markdown",
   "id": "87f33287",
   "metadata": {},
   "source": [
    "<h1 align=center> Getter e Setters </h1>\n",
    "\n",
    "```JavaScript\n",
    "function Produto(nome, preco, estoque) {\n",
    "    this.nome = nome;\n",
    "    this.preco = preco;\n",
    "    \n",
    "    let estoquePrivado = estoque;\n",
    "\n",
    "    Object.defineProperty(this, 'estoque', {\n",
    "        enumerable: true,\n",
    "        configurable: true,\n",
    "        get: function() {                  // O getter é somente pegar um valor e exibir ele. É equivalente ao \"value\".\n",
    "            return estoquePrivado;\n",
    "        },\n",
    "        set: function(valor) {              // O setter é quando queremos manipular dados referente ao getter.  \n",
    "            if (typeof valor !== 'number') {\n",
    "                console.log('Valor deve ser um tipo Number.');\n",
    "                return;\n",
    "            }\n",
    "            estoquePrivado = valor;\n",
    "        }\n",
    "    });\n",
    "}\n",
    "\n",
    "const p1 = new Produto('Camiseta', 32.90, 120);\n",
    "\n",
    "console.log(p1.estoque);\n",
    "p1.estoque = 500;\n",
    "console.log(p1.estoque);\n",
    "```"
   ]
  }
 ],
 "metadata": {
  "kernelspec": {
   "display_name": "Python 3 (ipykernel)",
   "language": "python",
   "name": "python3"
  },
  "language_info": {
   "codemirror_mode": {
    "name": "ipython",
    "version": 3
   },
   "file_extension": ".py",
   "mimetype": "text/x-python",
   "name": "python",
   "nbconvert_exporter": "python",
   "pygments_lexer": "ipython3",
   "version": "3.10.2"
  }
 },
 "nbformat": 4,
 "nbformat_minor": 5
}
