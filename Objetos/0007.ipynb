{
 "cells": [
  {
   "cell_type": "markdown",
   "id": "e47299bf",
   "metadata": {},
   "source": [
    "<h1 align=center> Factory Functions e Prototypes </h1>"
   ]
  },
  {
   "cell_type": "markdown",
   "id": "4f098e0d",
   "metadata": {},
   "source": [
    "<h3> Criando Sem Permitir a Herança dos dados. </h3>"
   ]
  },
  {
   "cell_type": "markdown",
   "id": "ba35c858",
   "metadata": {},
   "source": [
    "```JavaScript\n",
    "function criaPessoa(nome, sobrenome) {\n",
    "\n",
    "    const pessoaProtoype = {\n",
    "        falar() {\n",
    "            console.log(`${this.nome} está falando.`);\n",
    "        },\n",
    "\n",
    "        comer() {\n",
    "            console.log(`${this.nome} está comendo.`);\n",
    "        },\n",
    "\n",
    "        beber() {\n",
    "            console.log(`${this.nome} está bebendo.`);\n",
    "        },\n",
    "    };\n",
    "\n",
    "    return Object.create(pessoaProtoype, {\n",
    "        nome: {value: nome},\n",
    "        sobrenome: {value: sobrenome}\n",
    "    });\n",
    "}\n",
    "```"
   ]
  },
  {
   "cell_type": "markdown",
   "id": "c1058579",
   "metadata": {},
   "source": [
    "<h3> Criando Permitindo a Herança dos Dados </h3>"
   ]
  },
  {
   "cell_type": "markdown",
   "id": "b49b38a2",
   "metadata": {},
   "source": [
    "```JavaScript\n",
    "\n",
    "```"
   ]
  }
 ],
 "metadata": {
  "kernelspec": {
   "display_name": "Python 3 (ipykernel)",
   "language": "python",
   "name": "python3"
  },
  "language_info": {
   "codemirror_mode": {
    "name": "ipython",
    "version": 3
   },
   "file_extension": ".py",
   "mimetype": "text/x-python",
   "name": "python",
   "nbconvert_exporter": "python",
   "pygments_lexer": "ipython3",
   "version": "3.10.2"
  }
 },
 "nbformat": 4,
 "nbformat_minor": 5
}
