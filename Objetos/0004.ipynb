{
 "cells": [
  {
   "cell_type": "markdown",
   "id": "835f0fd6",
   "metadata": {},
   "source": [
    "<h1 align=center> Métodos Úteis para Objetos </h1>"
   ]
  },
  {
   "cell_type": "markdown",
   "id": "83eaff92",
   "metadata": {},
   "source": [
    "```JavaScript\n",
    "/* Copiando Dados de Outro Objeto. */\n",
    "\n",
    "const produto = { nome: 'Camiseta', preco: 32.40 };\n",
    "const outroProduto = { ...produto };\n",
    "\n",
    "/* Bloqueando A Alteração de Dados de um Objeto. */\n",
    "\n",
    "Object.freeze(produto);\n",
    "\n",
    "/* Verificando as Configurações de Propriedade de um Atributo do Objeto. */\n",
    "\n",
    "console.log(Object.getOwnPropertyDescriptor(produto, 'nome'));\n",
    "\n",
    "/* Alterando as Configurações de Propriedade de um Atributo do Objeto. */\n",
    "\n",
    "Object.defineProperty(produto, 'nome', {\n",
    "    writable: false,\n",
    "    configurable: false\n",
    "});\n",
    "\n",
    "/* Lendo as Chaves do Objeto. */\n",
    "\n",
    "console.log(Object.keys(produto));\n",
    "\n",
    "/* Lendo os Valores do Objeto. */\n",
    "\n",
    "console.log(Object.values(produto));\n",
    "\n",
    "/* Exibindo as Chaves e Valores em Formato de Lista. */\n",
    "\n",
    "console.log(Object.entries(produto));\n",
    "\n",
    "/* Iterando sob o objeto. */\n",
    "\n",
    "for (let [i, valor] of Object.entries(produto)) {\n",
    "    console.log(i, valor);\n",
    "}\n",
    "\n",
    "for (let i of Object.entries(produto)) {\n",
    "    console.log(i[0], i[1]);\n",
    "}\n",
    "```"
   ]
  }
 ],
 "metadata": {
  "kernelspec": {
   "display_name": "Python 3 (ipykernel)",
   "language": "python",
   "name": "python3"
  },
  "language_info": {
   "codemirror_mode": {
    "name": "ipython",
    "version": 3
   },
   "file_extension": ".py",
   "mimetype": "text/x-python",
   "name": "python",
   "nbconvert_exporter": "python",
   "pygments_lexer": "ipython3",
   "version": "3.10.2"
  }
 },
 "nbformat": 4,
 "nbformat_minor": 5
}
