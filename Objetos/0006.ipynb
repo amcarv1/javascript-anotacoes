{
 "cells": [
  {
   "cell_type": "markdown",
   "id": "8e318085",
   "metadata": {},
   "source": [
    "<h1 align=center> Herança </h1>"
   ]
  },
  {
   "cell_type": "markdown",
   "id": "0e7932da",
   "metadata": {},
   "source": [
    "```JavaScript\n",
    "// Criando a Primeira Função Construtora.\n",
    "function Produto(nome, preco) {\n",
    "    this.nome = nome;\n",
    "    this.preco = preco;\n",
    "}\n",
    "\n",
    "Produto.prototype.aumento = function(quantia) {\n",
    "    this.preco += quantia;\n",
    "};\n",
    "/* -=-=-=-=-=-=-=-=-=-=-=-=-=-=-=-=-=-=-===-=-= */\n",
    "\n",
    "// Criando a Segunda Função Construtora que Herdará Dados da Primeira.\n",
    "function Camiseta(nome, preco, cor) {\n",
    "    Produto.call(this, nome, preco);             // Herdando\n",
    "    this.cor = cor;\n",
    "}\n",
    "\n",
    "// A herança dos métodos é um pouco diferente.\n",
    "Camiseta.prototype = Object.create(Produto.prototype);\n",
    "Camiseta.prototype.constructor = Camiseta;\n",
    "\n",
    "// Alterando um método herdado.\n",
    "Camiseta.prototype.aumento = function(percentual) {\n",
    "    this.preco = this.preco + (this.preco * (percentual / 100));\n",
    "}\n",
    "/* -=-=-=-=-=-=-=-=-=-=-=-=-=-=-=-=-=-=-===-=-= */\n",
    "\n",
    "// Criando uma terceira funçã\n",
    "function Caneca(nome, preco, material, estoque) {\n",
    "    Produto.call(this, nome, preco);\n",
    "    this.material = material;\n",
    "\n",
    "    Object.defineProperty(this, 'estoque', {\n",
    "        enumerable: true,\n",
    "        configurable: false,\n",
    "        get: function() {\n",
    "            return estoque;\n",
    "        },\n",
    "        set: function() {\n",
    "            if (typeof valor !== 'number') return;\n",
    "            estoque = valor;\n",
    "        }\n",
    "    });\n",
    "\n",
    "}\n",
    "\n",
    "Caneca.prototype = Object.create(Produto.prototype);\n",
    "Caneca.prototype.constructor = Caneca;\n",
    "```"
   ]
  }
 ],
 "metadata": {
  "kernelspec": {
   "display_name": "Python 3 (ipykernel)",
   "language": "python",
   "name": "python3"
  },
  "language_info": {
   "codemirror_mode": {
    "name": "ipython",
    "version": 3
   },
   "file_extension": ".py",
   "mimetype": "text/x-python",
   "name": "python",
   "nbconvert_exporter": "python",
   "pygments_lexer": "ipython3",
   "version": "3.10.2"
  }
 },
 "nbformat": 4,
 "nbformat_minor": 5
}
