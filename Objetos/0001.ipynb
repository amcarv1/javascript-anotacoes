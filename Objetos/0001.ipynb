{
 "cells": [
  {
   "cell_type": "markdown",
   "id": "176e81c6",
   "metadata": {},
   "source": [
    "<h1 align=center> Objetos e seus Conceitos Iniciais e Introdução </h1>"
   ]
  },
  {
   "cell_type": "markdown",
   "id": "cf59b3ba",
   "metadata": {},
   "source": [
    "<h3> Como criar objetos </h3>"
   ]
  },
  {
   "cell_type": "markdown",
   "id": "0f4f5441",
   "metadata": {},
   "source": [
    "```JavaScript\n",
    "/* -=-=-=-=-=-=-=-=-=-=-=-=-=-=-= Criando o Objeto Chamado pessoa01 -=-=-=-=-=-=-=-=-=-=-=-=-=-=-= */\n",
    "\n",
    "const pessoa01 = {\n",
    "    nome: 'João',                       // Atributo 01\n",
    "    cidade: 'São Paulo',                // Atributo 02\n",
    "    idade: 30                           // Atributo 03\n",
    "};\n",
    "```"
   ]
  },
  {
   "cell_type": "markdown",
   "id": "599b7d57",
   "metadata": {},
   "source": [
    "<h3> Como exibir os dados do objeto </h3>"
   ]
  },
  {
   "cell_type": "markdown",
   "id": "6c3c975f",
   "metadata": {},
   "source": [
    "```JavaScript\n",
    "/* -=-=-=-=-=-=-=-=-=-=-=-=-=-=-= Acessando os dados do objetos. -=-=-=-=-=-=-=-=-=-=-=-=-=-=-=-=-=-= */\n",
    "\n",
    "// Podemos exibir os dados através da notação de ponto.\n",
    "\n",
    "console.log(pessoa01.nome);\n",
    "console.log(pessoa01.cidade);\n",
    "console.log(pessoa01.idade);\n",
    "\n",
    "// Podemos exibir os dados através da notação de colchete.\n",
    "\n",
    "console.log(pessoa01['nome']);\n",
    "console.log(pessoa01['cidade']);\n",
    "console.log(pessoa01['idade']);\n",
    "```"
   ]
  },
  {
   "cell_type": "markdown",
   "id": "2de3285a",
   "metadata": {},
   "source": [
    "<h3> Como criar funções criadoras de objetos (Factory Functions </h3>"
   ]
  },
  {
   "cell_type": "markdown",
   "id": "7f00d9ae",
   "metadata": {},
   "source": [
    "```JavaScript\n",
    "/* -=-=-=-=-=-=-=-=-=-=-=-=-=-=-= Criando Uma Função Criadora de Objetos -=-=-=-=-=-=-=-=-=-=-=-= */\n",
    "\n",
    "function criaPessoa(nome, sobrenome, idade) {\n",
    "    return {\n",
    "        nome: nome,\n",
    "        sobrenome: sobrenome,\n",
    "        idade: idade\n",
    "    };\n",
    "}\n",
    "\n",
    "// Criando um objto através da função. \n",
    "\n",
    "const pessoa01 = criaPessoa('João', 'Pereira', 22);\n",
    "```"
   ]
  },
  {
   "cell_type": "markdown",
   "id": "e2219b96",
   "metadata": {},
   "source": [
    "<h3> Como atribuir funções internas a cada objeto (métodos) </h3>"
   ]
  },
  {
   "cell_type": "markdown",
   "id": "6fa0ff16",
   "metadata": {},
   "source": [
    "```JavaScript\n",
    "/* -=-=-=-=-=-=-=-=-=-=-=-=-=-=-= Criando um Objeto com um Método -=-=-=-=-=-=-=-=-=-=-=-=-=-=-= */\n",
    "\n",
    "const pessoa = {\n",
    "    nome: 'João',\n",
    "    sobrenome: 'Pereira',\n",
    "    idade: 22,\n",
    "\n",
    "    fala() {\n",
    "        console.log(`${this.nome} está falando que tem ${this.idade} anos.`);\n",
    "    }\n",
    "};\n",
    "\n",
    "// Executando um método do objeto.\n",
    "\n",
    "pessoa.fala();\n",
    "```"
   ]
  },
  {
   "cell_type": "markdown",
   "id": "1887fb66",
   "metadata": {},
   "source": [
    "<h3> Como criar objetos dentro de objetos </h3>"
   ]
  },
  {
   "cell_type": "markdown",
   "id": "da93df9d",
   "metadata": {},
   "source": [
    "```JavaScript\n",
    "/* -=-=-=-=-=-=-=-=-=-=-=-=-=-=-= Criando Um Objeto Com um Objeto Interno. -=-=-=-=-=-=-=-=-=-=-=-= */\n",
    "\n",
    "const pessoa = {\n",
    "    nome: 'João',\n",
    "    sobrenome: 'Pereira',\n",
    "    idade: 32,\n",
    "    endereco: {\n",
    "        rua: 'Av Brasil',\n",
    "        numero: 16\n",
    "    }\n",
    "};\n",
    "```"
   ]
  },
  {
   "cell_type": "markdown",
   "id": "70876570",
   "metadata": {},
   "source": [
    "<h3> Atribuição Viadesestruturação </h3>"
   ]
  },
  {
   "cell_type": "markdown",
   "id": "f77485cf",
   "metadata": {},
   "source": [
    "```JavaScript\n",
    "/* -=-=-=-=-=-=-=-=-=-=-=-=-=-=-= Objeto dos Exemplos -=-=-=-=-=-=-=-=-=-=-=-=-=-=-= */\n",
    "\n",
    "const pessoa = {\n",
    "    nome: 'João',\n",
    "    sobrenome: 'Pereira',\n",
    "    idade: 32,\n",
    "    endereco: {\n",
    "        rua: 'Av Brasil',\n",
    "        numero: 16\n",
    "    }\n",
    "};\n",
    "\n",
    "///////////////////////////////////////////////////////////////////////////////////////\n",
    "\n",
    "// Atribuindo um valor do atributo a uma variável qualquer. \n",
    "\n",
    "let n = pessoa.nome; // Esse tipo de atribuição chama-se atribuição normal.\n",
    "\n",
    "/* -=-=-= >>>>>>>>>>>>>>>>>  Atribuição viadesestruturação. <<<<<<<<<<<<<<<<<< -=-=-= */\n",
    "\n",
    "const { nome, sobrenome, idade } = pessoa;\n",
    "\n",
    "// Podemos setar valores padrões a variáveis caso ela não exista no objeto.\n",
    "\n",
    "const { name = ''} = pessoa; // Não existe o atributo name.\n",
    "\n",
    "// Podemos modificar o nome da variável.\n",
    "\n",
    "const { nome: nomeObjeto, sobrenome: sobrenomeObjeto } = pessoa; // A variável nomeObjeto terá o valor do atributo nome, o mesmo para variável sobrenomeObjeto.\n",
    "\n",
    "// Verificando o objeto interno endereco\n",
    "\n",
    "const { endereco } = pessoa;\n",
    "\n",
    "// Verificando o objeto do objeto interno endereco.\n",
    "\n",
    "const { endereco: { rua, numero } } = pessoa;\n",
    "\n",
    "// Atribuindo variáveis aos valores dos objetos internos.\n",
    "\n",
    "const { endereco: { rua: r, numero: num } } = pessoa;\n",
    "```"
   ]
  },
  {
   "cell_type": "markdown",
   "id": "d8cf5c7d",
   "metadata": {},
   "source": [
    "<h3> Criando objetos através de Constructor Functions </h3>"
   ]
  },
  {
   "cell_type": "markdown",
   "id": "c3480fc9",
   "metadata": {},
   "source": [
    "```JavaScript\n",
    "function Pessoa(nome, sobrenome) {\n",
    "    this.nome = nome;\n",
    "    this.sobrenome = sobrenome;\n",
    "}\n",
    "\n",
    "const pessoa01 = New Pessoa('João', 'Pedro');\n",
    "const pessoa02 = New Pessoa('Rodrigo', 'Pereira');\n",
    "```"
   ]
  },
  {
   "cell_type": "markdown",
   "id": "4291ffb0",
   "metadata": {},
   "source": [
    "<h3> Iterando sob objetos </h3>"
   ]
  },
  {
   "cell_type": "markdown",
   "id": "3a75f75c",
   "metadata": {},
   "source": [
    "```JavaScript\n",
    "// Iterando  o objeto para descobrir as chaves.\n",
    "for (let i in pessoa) {\n",
    "    console.log(i);\n",
    "}\n",
    "\n",
    "// Iterando o objeto para descobrir seus valores.\n",
    "for (let i in pessoa) {\n",
    "    console.log(pessoa[i]);\n",
    "```"
   ]
  }
 ],
 "metadata": {
  "kernelspec": {
   "display_name": "Python 3 (ipykernel)",
   "language": "python",
   "name": "python3"
  },
  "language_info": {
   "codemirror_mode": {
    "name": "ipython",
    "version": 3
   },
   "file_extension": ".py",
   "mimetype": "text/x-python",
   "name": "python",
   "nbconvert_exporter": "python",
   "pygments_lexer": "ipython3",
   "version": "3.10.2"
  }
 },
 "nbformat": 4,
 "nbformat_minor": 5
}
