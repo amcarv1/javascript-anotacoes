{
 "cells": [
  {
   "cell_type": "markdown",
   "id": "ed47d574",
   "metadata": {},
   "source": [
    "<h1 align=center> Prototypes </h1>"
   ]
  },
  {
   "cell_type": "markdown",
   "id": "111e93e8",
   "metadata": {},
   "source": [
    "* Protótipos são o mecanismo pelo qual objetos JavaScript herdam recursos uns dos outros."
   ]
  },
  {
   "cell_type": "markdown",
   "id": "f4853ca1",
   "metadata": {},
   "source": [
    "<h3> Como Criar Prototypes </h3>"
   ]
  },
  {
   "cell_type": "markdown",
   "id": "1aa9d88a",
   "metadata": {},
   "source": [
    "```JavaScript\n",
    "// Criando a função construtora.\n",
    "function Pessoa(nome, sobrenome) {\n",
    "    this.nome = nome;\n",
    "    this.sobrenome = sobrenome;\n",
    "}\n",
    "\n",
    "// Criando o prototype da função construtora.\n",
    "Pessoa.prototype.nomeCompleto = function() {\n",
    "    return this.nome + ' ' + this.sobrenome;\n",
    "};\n",
    "```"
   ]
  },
  {
   "cell_type": "markdown",
   "id": "c18a1f13",
   "metadata": {},
   "source": [
    "<h3> Como Atribuir Prototypes de Outros Objetos em Um Objeto. </h3>"
   ]
  },
  {
   "cell_type": "markdown",
   "id": "f29b39c5",
   "metadata": {},
   "source": [
    "```JavaScript\n",
    "const objA = {\n",
    "    chaveA: 'A'\n",
    "    //  __proto__: Object.prototype  \n",
    "};\n",
    "\n",
    "const objB = {\n",
    "    chaveB: 'B'\n",
    "    // __proto__: objA\n",
    "};\n",
    "\n",
    "Object.setPrototypeOf(objB, objA); // Utilizamos a função setPrototypeOf()\n",
    "```"
   ]
  }
 ],
 "metadata": {
  "kernelspec": {
   "display_name": "Python 3 (ipykernel)",
   "language": "python",
   "name": "python3"
  },
  "language_info": {
   "codemirror_mode": {
    "name": "ipython",
    "version": 3
   },
   "file_extension": ".py",
   "mimetype": "text/x-python",
   "name": "python",
   "nbconvert_exporter": "python",
   "pygments_lexer": "ipython3",
   "version": "3.10.2"
  }
 },
 "nbformat": 4,
 "nbformat_minor": 5
}
