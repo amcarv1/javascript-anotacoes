{
 "cells": [
  {
   "cell_type": "markdown",
   "id": "e6b7e40b",
   "metadata": {},
   "source": [
    "<h1 align='center'> Condição Ternária</h1>\n",
    "\n",
    "```JavaScript\n",
    "const pontuacaoUsuario = 999;\n",
    "\n",
    "if (pontuacaoUsuario >= 1000) {\n",
    "    console.log('Usuário vip.');\n",
    "}   else {\n",
    "    console.log('Usuário normal.');\n",
    "}\n",
    "\n",
    "(pontuacaoUsuario >= 1000) ? console.log('Usuário vip.') : console.log('Usuário normal.');\n",
    "\n",
    "// Podemos atribuir a variáveis.\n",
    "\n",
    "const nivelUsuario = (pontuacaoUsuario >= 1000) ? 'Usuário vip.' : 'Usuário normal.';\n",
    "\n",
    "////////////////////////////////////////////////////////////////////////////////////////////\n",
    "\n",
    "let corUsuario = null;\n",
    "\n",
    "(corUsuario === null) ? corUsuario = \"Black\" : corUsuario = corUsuario;\n",
    "```"
   ]
  }
 ],
 "metadata": {
  "kernelspec": {
   "display_name": "Python 3 (ipykernel)",
   "language": "python",
   "name": "python3"
  },
  "language_info": {
   "codemirror_mode": {
    "name": "ipython",
    "version": 3
   },
   "file_extension": ".py",
   "mimetype": "text/x-python",
   "name": "python",
   "nbconvert_exporter": "python",
   "pygments_lexer": "ipython3",
   "version": "3.10.2"
  }
 },
 "nbformat": 4,
 "nbformat_minor": 5
}
