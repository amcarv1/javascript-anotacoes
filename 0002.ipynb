{
 "cells": [
  {
   "cell_type": "markdown",
   "id": "d90cab82",
   "metadata": {},
   "source": [
    "<h1 align='center'> Comentários de Código em JavaScript </h1>"
   ]
  },
  {
   "cell_type": "markdown",
   "id": "31b803f7",
   "metadata": {},
   "source": [
    "```JavaScript\n",
    "// Comentário de uma linha.\n",
    "\n",
    "/*\n",
    "Comentário com mais\n",
    "de uma linha.\n",
    "*/\n",
    "```"
   ]
  }
 ],
 "metadata": {
  "kernelspec": {
   "display_name": "Python 3 (ipykernel)",
   "language": "python",
   "name": "python3"
  },
  "language_info": {
   "codemirror_mode": {
    "name": "ipython",
    "version": 3
   },
   "file_extension": ".py",
   "mimetype": "text/x-python",
   "name": "python",
   "nbconvert_exporter": "python",
   "pygments_lexer": "ipython3",
   "version": "3.10.2"
  }
 },
 "nbformat": 4,
 "nbformat_minor": 5
}
