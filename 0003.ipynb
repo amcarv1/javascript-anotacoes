{
 "cells": [
  {
   "cell_type": "markdown",
   "id": "7636c628",
   "metadata": {},
   "source": [
    "<h1 align='center'> Declarando e Inicializando Variáveis </h1>\n",
    "\n",
    "```JavaScript\n",
    "// Existem 03 formas criarmos variáveis em JavaScript\n",
    "\n",
    "// Forma 01 - Usando let\n",
    "\n",
    "let nome = 'João';\n",
    "let idade = 32;\n",
    "let peso;                              // Note que não precisamos dar um valor a variável.\n",
    "let nome = 'Maria';                    // Isso gera erro. Não podemos redeclarar variáveis.\n",
    "nome = 'Maria';                        // Isso pode.\n",
    "\n",
    "// Forma 02 - Usando const\n",
    "\n",
    "const nome = 'João';\n",
    "const idade = 32;\n",
    "const peso;                            // Isso gera erro. É a primeira grande diferença entre const a let.\n",
    "nome = 'Maria';                        // Isso gera erro. Constantes não permitem modificar o valor da variável.\n",
    "\n",
    "// Forma 03 - Usando var\n",
    "\n",
    "var nome = 'João';\n",
    "var idade = 32\n",
    "var idade;\n",
    "var nome = 'Maria';                    // Isso pode. É a primeira grande diferença entre let e var e constantes.\n",
    "```\n"
   ]
  }
 ],
 "metadata": {
  "kernelspec": {
   "display_name": "Python 3 (ipykernel)",
   "language": "python",
   "name": "python3"
  },
  "language_info": {
   "codemirror_mode": {
    "name": "ipython",
    "version": 3
   },
   "file_extension": ".py",
   "mimetype": "text/x-python",
   "name": "python",
   "nbconvert_exporter": "python",
   "pygments_lexer": "ipython3",
   "version": "3.10.2"
  }
 },
 "nbformat": 4,
 "nbformat_minor": 5
}
