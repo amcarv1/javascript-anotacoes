{
 "cells": [
  {
   "cell_type": "markdown",
   "id": "d15b1bb6",
   "metadata": {},
   "source": [
    "<h1 align='center'> Estrutura de Repetição IV - while e do while </h1>\n",
    "\n",
    "```JavaScript\n",
    "// Exemplo 01 - Contando de 0 até 10.\n",
    "\n",
    "var i = 0;\n",
    "\n",
    "while (i <= 10) {\n",
    "    console.log(i);\n",
    "    i++;\n",
    "}\n",
    "\n",
    "// Exemplo 02 - Percorrendo uma string.\n",
    "\n",
    "var i = 0\n",
    "let nome = 'João';\n",
    "\n",
    "while (i < nome.length) {\n",
    "    console.log(i, nome[i]);\n",
    "    i++;\n",
    "}\n",
    "\n",
    "// Exemplo 03 - Contando de 0 até 10 com o do while.\n",
    "\n",
    "var i = 0;\n",
    "\n",
    "do {\n",
    "    console.log(i);\n",
    "    i++;\n",
    "} while (i <= 10);\n",
    "\n",
    "// Exemplo 04 -\n",
    "\n",
    "function random(min, max) {\n",
    "    const r = Math.random() * (max - min) + min;\n",
    "    return Math.floor(r);\n",
    "}\n",
    "\n",
    "const min = 1;\n",
    "const max = 50;\n",
    "let numRandom = random(min, max);\n",
    "\n",
    "while (numRandom != 10) {\n",
    "    numRandom = random(min, max);\n",
    "    console.log(numRandom);\n",
    "}\n",
    "```"
   ]
  }
 ],
 "metadata": {
  "kernelspec": {
   "display_name": "Python 3 (ipykernel)",
   "language": "python",
   "name": "python3"
  },
  "language_info": {
   "codemirror_mode": {
    "name": "ipython",
    "version": 3
   },
   "file_extension": ".py",
   "mimetype": "text/x-python",
   "name": "python",
   "nbconvert_exporter": "python",
   "pygments_lexer": "ipython3",
   "version": "3.10.2"
  }
 },
 "nbformat": 4,
 "nbformat_minor": 5
}
