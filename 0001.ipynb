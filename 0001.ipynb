{
 "cells": [
  {
   "cell_type": "markdown",
   "id": "0cd6b3e2",
   "metadata": {},
   "source": [
    "<h1 align=\"center\"> console.log(); </h1>"
   ]
  },
  {
   "cell_type": "markdown",
   "id": "daf99ad0",
   "metadata": {},
   "source": [
    "<li>Sempre que desejamos mostrar algo no output, utilizamos a função console.log();</li>"
   ]
  },
  {
   "cell_type": "markdown",
   "id": "8b050f21",
   "metadata": {},
   "source": [
    "```JavaScript\n",
    "console.log('Olá, Mundo!');                  // Exibindo uma string com aspas simples.\n",
    "\n",
    "console.log(\"Olá, Mundo!\");                 // Exibindo uma string com aspas duplas.\n",
    "\n",
    "console.log(`Olá, Mundo!`);                 // Exibindo uma string com crase.\n",
    "\n",
    "console.log(12);                            // Exibindo um número.\n",
    "\n",
    "console.log(76.2);                          // Exibindo um número de ponto flutuante.\n",
    "\n",
    "console.log(true);                          // Exibindo um valor booleano.\n",
    "```"
   ]
  }
 ],
 "metadata": {
  "kernelspec": {
   "display_name": "Python 3 (ipykernel)",
   "language": "python",
   "name": "python3"
  },
  "language_info": {
   "codemirror_mode": {
    "name": "ipython",
    "version": 3
   },
   "file_extension": ".py",
   "mimetype": "text/x-python",
   "name": "python",
   "nbconvert_exporter": "python",
   "pygments_lexer": "ipython3",
   "version": "3.10.2"
  }
 },
 "nbformat": 4,
 "nbformat_minor": 5
}
