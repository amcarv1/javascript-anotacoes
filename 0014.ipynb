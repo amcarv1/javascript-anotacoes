{
 "cells": [
  {
   "cell_type": "markdown",
   "id": "1c16921b",
   "metadata": {},
   "source": [
    "<h1 align='center'> Estrutura de Repetição II - For in </h1>\n",
    "\n",
    "```JavaScript\n",
    "// for in\n",
    "\n",
    "// Exemplo 01 - Trabalhando com arrays (vetores).\n",
    "\n",
    "const frutas = ['maçã', 'laranja', 'uva', 'pêra'];\n",
    "\n",
    "for (let i in frutas) {\n",
    "    console.log(i);\n",
    "    console.log(frutas[i]);\n",
    "}\n",
    "\n",
    "// Exemplo 02 - Trabalhando com objetos.\n",
    "\n",
    "const pessoa = {\n",
    "    nome: 'João',\n",
    "    sobrenome: 'Pereira',\n",
    "    idade: 40\n",
    "};\n",
    "\n",
    "for (let i in pessoa) {\n",
    "    console.log(i)\n",
    "    console.log(pessoa[i]);\n",
    "}\n",
    "```"
   ]
  }
 ],
 "metadata": {
  "kernelspec": {
   "display_name": "Python 3 (ipykernel)",
   "language": "python",
   "name": "python3"
  },
  "language_info": {
   "codemirror_mode": {
    "name": "ipython",
    "version": 3
   },
   "file_extension": ".py",
   "mimetype": "text/x-python",
   "name": "python",
   "nbconvert_exporter": "python",
   "pygments_lexer": "ipython3",
   "version": "3.10.2"
  }
 },
 "nbformat": 4,
 "nbformat_minor": 5
}
