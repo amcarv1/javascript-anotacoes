{
 "cells": [
  {
   "cell_type": "markdown",
   "id": "a88d7619",
   "metadata": {},
   "source": [
    "<h1 align='center'> Template Strings </h1>\n",
    "\n",
    "```JavaScript\n",
    "let nome = 'João';\n",
    "let idade = 34;\n",
    "\n",
    "console.log(`${nome} tem ${idade} anos`);\n",
    "```"
   ]
  }
 ],
 "metadata": {
  "kernelspec": {
   "display_name": "Python 3 (ipykernel)",
   "language": "python",
   "name": "python3"
  },
  "language_info": {
   "codemirror_mode": {
    "name": "ipython",
    "version": 3
   },
   "file_extension": ".py",
   "mimetype": "text/x-python",
   "name": "python",
   "nbconvert_exporter": "python",
   "pygments_lexer": "ipython3",
   "version": "3.10.2"
  }
 },
 "nbformat": 4,
 "nbformat_minor": 5
}
