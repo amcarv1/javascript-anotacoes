{
 "cells": [
  {
   "cell_type": "markdown",
   "id": "a08ff43c",
   "metadata": {},
   "source": [
    "<h1 align='center'> Tipos de Dados </h1>\n",
    "\n",
    "```JavaScript\n",
    "/* -------------  Tipos String ---------------------- */\n",
    "\n",
    "const nome = 'Luiz';                        // String\n",
    "const sobrenome = \"Pereira\";                // String\n",
    "const cidade = `Minas Gerais`;              // String\n",
    "\n",
    "/* -------------  Tipos Number ---------------------- */\n",
    "\n",
    "const idade = 10;                           // Number\n",
    "const altura = 1.77;                        // Number\n",
    "\n",
    "/* -------------  Tipos Undefined ---------------------- */\n",
    "\n",
    "let nomeAluno;                              // Undefined (nulo)\n",
    "let cidadeAluno;                            // Undefined (nulo)\n",
    "\n",
    "/* -------------  Tipos Nulo ---------------------- */\n",
    "\n",
    "let cor = null;                             // Null\n",
    "const preco = null;                         // Null\n",
    "\n",
    "/* -------------  Tipos Booleano ---------------------- */\n",
    "\n",
    "const aprovado = true;                      // Booleano\n",
    "let luzAcessa = false;                      // Booleano\n",
    "\n",
    "/* -------------  Função typeof() ---------------------- */\n",
    "\n",
    "console.log(nome, typeof(nome));\n",
    "console.log(idade, typeof(idade));\n",
    "console.log(altura, typeof(altura));\n",
    "console.log(nomeAluno, typeof(nomeAluno));\n",
    "console.log(cor, typeof(cor));\n",
    "console.log(aprovado, typeof(aprovado));\n",
    "\n",
    "/* -------------  Valores Passados por Referência ---------------------- */\n",
    "\n",
    "const a = [1, 2];\n",
    "const b = a;\n",
    "\n",
    "console.log(a, b);\n",
    "\n",
    "a.push(3);\n",
    "\n",
    "console.log(a, b);\n",
    "\n",
    "```"
   ]
  }
 ],
 "metadata": {
  "kernelspec": {
   "display_name": "Python 3 (ipykernel)",
   "language": "python",
   "name": "python3"
  },
  "language_info": {
   "codemirror_mode": {
    "name": "ipython",
    "version": 3
   },
   "file_extension": ".py",
   "mimetype": "text/x-python",
   "name": "python",
   "nbconvert_exporter": "python",
   "pygments_lexer": "ipython3",
   "version": "3.10.2"
  }
 },
 "nbformat": 4,
 "nbformat_minor": 5
}
