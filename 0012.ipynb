{
 "cells": [
  {
   "cell_type": "markdown",
   "id": "5f21c22d",
   "metadata": {},
   "source": [
    "<h1 align='center'> Switch e Case </h1>\n",
    "\n",
    "```JavaScript\n",
    "let diaSemana = 12;\n",
    "let diaSemanaTexto = '';\n",
    "\n",
    "switch(diaSemana) {\n",
    "    case 0:\n",
    "        diaSemanaTexto = 'Domingo';\n",
    "        break;\n",
    "    case 1:\n",
    "        diaSemanaTexto = 'Segunda';\n",
    "        break;\n",
    "    case 2:\n",
    "        diaSemanaTexto = 'Terça';\n",
    "        break;\n",
    "    case 3:\n",
    "        diaSemanaTexto = 'Quarta';\n",
    "        break;\n",
    "    case 4:\n",
    "        diaSemanaTexto = 'Quinta';\n",
    "        break;\n",
    "    case 5:\n",
    "        diaSemanaTexto = 'Sexta';\n",
    "        break;\n",
    "    case 6:\n",
    "        diaSemanaTexto = 'Sábado';\n",
    "        break;\n",
    "    default:\n",
    "        diaSemanaTexto = '';\n",
    "}\n",
    "\n",
    "console.log(diaSemana, diaSemanaTexto);\n",
    "```"
   ]
  }
 ],
 "metadata": {
  "kernelspec": {
   "display_name": "Python 3 (ipykernel)",
   "language": "python",
   "name": "python3"
  },
  "language_info": {
   "codemirror_mode": {
    "name": "ipython",
    "version": 3
   },
   "file_extension": ".py",
   "mimetype": "text/x-python",
   "name": "python",
   "nbconvert_exporter": "python",
   "pygments_lexer": "ipython3",
   "version": "3.10.2"
  }
 },
 "nbformat": 4,
 "nbformat_minor": 5
}
