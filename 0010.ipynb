{
 "cells": [
  {
   "cell_type": "markdown",
   "id": "0df3cd28",
   "metadata": {},
   "source": [
    "<h1 align=center> Estruturas Condicionais Simples, Compostas e Aninhadas. </h1>\n",
    "\n",
    "\n",
    "```JavaScript\n",
    "/* -=   Estrutura Condicional Simples.  -= */\n",
    "\n",
    "var hora = 10;\n",
    "\n",
    "if (hora <= 12) {\n",
    "    console.log('Bom Dia!');\n",
    "}   else {\n",
    "    console.log('Já passou do meio dia.');\n",
    "}\n",
    "\n",
    "/* -=-=-=-=-=-=-=-=-=-=-=-=-=-=-=-=-=-=-=-=-=-= */                                                                  \n",
    "\n",
    "/* -=   Estrutura Condicional Composta.  -= */\n",
    "\n",
    "var hora = 15;\n",
    "\n",
    "if (hora >= 0 && hora <= 12) {\n",
    "    console.log('Bom Dia!');\n",
    "}   else {\n",
    "    console.log('Já passou do meio dia.');\n",
    "}\n",
    "\n",
    "/* -=-=-=-=-=-=-=-=-=-=-=-=-=-=-=-=-=-=-=-=-=-= */   \n",
    "\n",
    "/* -=   Estrutura Condicional Aninhada.  -= */\n",
    "\n",
    "var hora = 15;\n",
    "\n",
    "if (hora >= 0 && hora <= 11) {\n",
    "    console.log('Bom Dia!');\n",
    "}   else if (hora >= 12 && hora <= 17) {\n",
    "    console.log('Boa Tarde!');\n",
    "}   else if (hora >= 18 && hora <= 23) {\n",
    "    console.log('Boa Noite!');\n",
    "}   else {\n",
    "    console.log('Horá inválida!');\n",
    "}\n",
    "\n",
    "/* -=-=-=-=-=-=-=-=-=-=-=-=-=-=-=-=-=-=-=-=-=-= */ \n",
    "```"
   ]
  }
 ],
 "metadata": {
  "kernelspec": {
   "display_name": "Python 3 (ipykernel)",
   "language": "python",
   "name": "python3"
  },
  "language_info": {
   "codemirror_mode": {
    "name": "ipython",
    "version": 3
   },
   "file_extension": ".py",
   "mimetype": "text/x-python",
   "name": "python",
   "nbconvert_exporter": "python",
   "pygments_lexer": "ipython3",
   "version": "3.10.2"
  }
 },
 "nbformat": 4,
 "nbformat_minor": 5
}
