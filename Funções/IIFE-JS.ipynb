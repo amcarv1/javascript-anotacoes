{
 "cells": [
  {
   "cell_type": "markdown",
   "id": "f93ffea7",
   "metadata": {},
   "source": [
    "<h3 align=center> IIFE - Immediately Invoke Function Expression </h3>"
   ]
  },
  {
   "cell_type": "markdown",
   "id": "aae38465",
   "metadata": {},
   "source": [
    "* São funções que chamam a si mesma imediatamente.\n",
    "\n",
    "```JavaScript\n",
    "( function() {\n",
    "\n",
    "    const nome = 'João';\n",
    "\n",
    "    function falaOi() {\n",
    "        console.log('Oi');\n",
    "\n",
    "    }\n",
    "\n",
    "} ) ();\n",
    "\n",
    "// Não ocorre interferência de variáveis.\n",
    "const nome = 'Roberto';                     \n",
    "\n",
    "function falaOi() {\n",
    "    console.log('Oi');\n",
    "}\n",
    "```"
   ]
  }
 ],
 "metadata": {
  "kernelspec": {
   "display_name": "Python 3 (ipykernel)",
   "language": "python",
   "name": "python3"
  },
  "language_info": {
   "codemirror_mode": {
    "name": "ipython",
    "version": 3
   },
   "file_extension": ".py",
   "mimetype": "text/x-python",
   "name": "python",
   "nbconvert_exporter": "python",
   "pygments_lexer": "ipython3",
   "version": "3.10.2"
  }
 },
 "nbformat": 4,
 "nbformat_minor": 5
}
