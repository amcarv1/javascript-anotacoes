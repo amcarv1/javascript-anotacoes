{
 "cells": [
  {
   "cell_type": "markdown",
   "id": "c194e5c6",
   "metadata": {},
   "source": [
    "<h1 align=center> Funções de Callback </h1>"
   ]
  },
  {
   "cell_type": "markdown",
   "id": "72af6129",
   "metadata": {},
   "source": [
    "* Funções de Callback são funções passadas como parâmetro de uma outra função, que serão executadas caso determinado evento ocorra para completar a rotina da função chamadora ou para modifiacr o percuso de algo."
   ]
  },
  {
   "cell_type": "markdown",
   "id": "ca6faee3",
   "metadata": {},
   "source": [
    "```JavaScript\n",
    "/* -=-=-= Criando Uma Função Geradora de Números Aleatórios -=-=-= */\n",
    "\n",
    "function rand(min = 1000, max =  3000) {\n",
    "    const num = Math.random() * (max - min) + min;\n",
    "    return Math.floor(num);\n",
    "}\n",
    "\n",
    "/* -=-=-=-=-=-=-=-=-=-=-=-=-=-=-=-=-=-=-=-=-=-=-=-=-=-=-=-=-=-=-=-= */\n",
    "\n",
    "\n",
    "function f1(callback) {\n",
    "    setTimeout(function () {\n",
    "        console.log('f1');\n",
    "        if (callback) callback();\n",
    "    }, rand());\n",
    "}\n",
    "\n",
    "function f2(callback) {\n",
    "    setTimeout(function () {\n",
    "        console.log('f2');\n",
    "        if (callback) callback();\n",
    "    }, rand());}\n",
    "\n",
    "function f3(callback) {\n",
    "    setTimeout(function () {\n",
    "        console.log('f3');\n",
    "        if (callback) callback();\n",
    "    }, rand());}\n",
    "\n",
    "f1(function () {\n",
    "    f2(function() {\n",
    "        f3(function() {\n",
    "            console.log('Olá, Mundo!');\n",
    "        });\n",
    "    });\n",
    "});\n",
    "```"
   ]
  }
 ],
 "metadata": {
  "kernelspec": {
   "display_name": "Python 3 (ipykernel)",
   "language": "python",
   "name": "python3"
  },
  "language_info": {
   "codemirror_mode": {
    "name": "ipython",
    "version": 3
   },
   "file_extension": ".py",
   "mimetype": "text/x-python",
   "name": "python",
   "nbconvert_exporter": "python",
   "pygments_lexer": "ipython3",
   "version": "3.10.2"
  }
 },
 "nbformat": 4,
 "nbformat_minor": 5
}
