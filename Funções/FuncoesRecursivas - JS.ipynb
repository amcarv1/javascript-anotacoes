{
 "cells": [
  {
   "cell_type": "markdown",
   "id": "7b9e655b",
   "metadata": {},
   "source": [
    "<h3 align=center> Funções Recursivas </h3>\n",
    "\n",
    "```JavaScript\n",
    "// Funções recursivas são aquelas que chamam a si mesma.\n",
    "\n",
    "function souRecursiva(max) {\n",
    "    souRecursiva(max);\n",
    "    if (max >= 10) return;\n",
    "    max++;\n",
    "    console.log(max);\n",
    "}\n",
    "\n",
    "souRecursiva(-10)\n",
    "\n",
    "// A única preocupação é onde a função deve parar de se chamar.\n",
    "```"
   ]
  }
 ],
 "metadata": {
  "kernelspec": {
   "display_name": "Python 3 (ipykernel)",
   "language": "python",
   "name": "python3"
  },
  "language_info": {
   "codemirror_mode": {
    "name": "ipython",
    "version": 3
   },
   "file_extension": ".py",
   "mimetype": "text/x-python",
   "name": "python",
   "nbconvert_exporter": "python",
   "pygments_lexer": "ipython3",
   "version": "3.10.2"
  }
 },
 "nbformat": 4,
 "nbformat_minor": 5
}
