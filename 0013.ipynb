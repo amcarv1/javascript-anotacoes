{
 "cells": [
  {
   "cell_type": "markdown",
   "id": "539b3a5c",
   "metadata": {},
   "source": [
    "<h1 align='center'> Estrutura de Repetição I - For Clássico </h1>\n",
    "\n",
    "```JavaScript\n",
    "// for clássico\n",
    "\n",
    "// Exemplo 01 - Variável começando no 0\n",
    "\n",
    "for (let i = 0; i <= 5; i++) {\n",
    "    console.log(`Linha ${i}`);\n",
    "}\n",
    "\n",
    "// Exemplo 02 - Variável começando no 5\n",
    "\n",
    "for (let i = 5; i <= 10; i++) {\n",
    "    console.log(`Linha ${i}`);\n",
    "}\n",
    "\n",
    "// Exemplo 03 - Variável com \"passo\" de 10.\n",
    "\n",
    "for (let i = 0; i <= 50; i += 10) {\n",
    "    console.log(`Linha ${i}`);\n",
    "}\n",
    "\n",
    "// Exemplo 04 - Repetição decrescente.\n",
    "\n",
    "for (let i = 10; i >= 0; i--) {\n",
    "    console.log(`Linha ${i}`);\n",
    "}\n",
    "\n",
    "// Exemplo 05 - Verificando se um range de números é par ou ímpar.\n",
    "\n",
    "for (let i = 0; i <= 50; i++) {\n",
    "    const par = ((i % 2 == 0) ? 'par' : 'ímpar');\n",
    "    console.log(i, par);\n",
    "}\n",
    "\n",
    "// Exemplo 06 - Verificando os dados de um array através do for clássico.\n",
    "\n",
    "const frutas = ['maçã', 'pêra', 'uva', 'laranja', 'melancia', 'mamão'];\n",
    "\n",
    "for (let i = 0; i < frutas.length; i++) {\n",
    "    console.log(frutas[i]);\n",
    "}\n",
    "```"
   ]
  }
 ],
 "metadata": {
  "kernelspec": {
   "display_name": "Python 3 (ipykernel)",
   "language": "python",
   "name": "python3"
  },
  "language_info": {
   "codemirror_mode": {
    "name": "ipython",
    "version": 3
   },
   "file_extension": ".py",
   "mimetype": "text/x-python",
   "name": "python",
   "nbconvert_exporter": "python",
   "pygments_lexer": "ipython3",
   "version": "3.10.2"
  }
 },
 "nbformat": 4,
 "nbformat_minor": 5
}
